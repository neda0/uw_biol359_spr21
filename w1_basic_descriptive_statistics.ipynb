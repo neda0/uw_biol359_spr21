{
 "cells": [
  {
   "cell_type": "markdown",
   "metadata": {},
   "source": [
    "# Biol 359  |  Basic Descriptive Statistics \n",
    "### Spring 2021, Week 1 \n",
    "\n",
    "<hr style=\"border:2px solid gray\"> </hr>"
   ]
  },
  {
   "cell_type": "markdown",
   "metadata": {},
   "source": [
    "## PART 1: Manage Data"
   ]
  },
  {
   "cell_type": "markdown",
   "metadata": {},
   "source": [
    "#### [DO NOT MODIFY]  Loading in packages for statistics and plotting"
   ]
  },
  {
   "cell_type": "code",
   "execution_count": null,
   "metadata": {},
   "outputs": [],
   "source": [
    "import pandas as pd\n",
    "import numpy as np\n",
    "import matplotlib.pyplot as plt"
   ]
  },
  {
   "cell_type": "markdown",
   "metadata": {},
   "source": [
    "#### [DO NOT MODIFY]    Loading data"
   ]
  },
  {
   "cell_type": "code",
   "execution_count": null,
   "metadata": {},
   "outputs": [],
   "source": [
    "dataset = pd.read_csv('iris_dataset.csv')"
   ]
  },
  {
   "cell_type": "markdown",
   "metadata": {},
   "source": [
    "#### [DO NOT MODIFY]  Print data"
   ]
  },
  {
   "cell_type": "code",
   "execution_count": null,
   "metadata": {},
   "outputs": [],
   "source": [
    "dataset"
   ]
  },
  {
   "cell_type": "markdown",
   "metadata": {},
   "source": [
    "#### [MODIFY]  Print first '5' entries of data"
   ]
  },
  {
   "cell_type": "code",
   "execution_count": null,
   "metadata": {},
   "outputs": [],
   "source": [
    "dataset.head(5)"
   ]
  },
  {
   "cell_type": "markdown",
   "metadata": {},
   "source": [
    "#### [MODIFY]  Print last '5' entries of data"
   ]
  },
  {
   "cell_type": "code",
   "execution_count": null,
   "metadata": {},
   "outputs": [],
   "source": [
    "dataset.tail(5)"
   ]
  },
  {
   "cell_type": "markdown",
   "metadata": {},
   "source": [
    "#### [MODIFY]  Print '5' random entries of data"
   ]
  },
  {
   "cell_type": "code",
   "execution_count": null,
   "metadata": {},
   "outputs": [],
   "source": [
    "dataset.sample(5)"
   ]
  },
  {
   "cell_type": "markdown",
   "metadata": {},
   "source": [
    "#### [MODIFY]  Print unique 'species' entries of data"
   ]
  },
  {
   "cell_type": "code",
   "execution_count": null,
   "metadata": {},
   "outputs": [],
   "source": [
    "print(dataset['species'].unique())"
   ]
  },
  {
   "cell_type": "markdown",
   "metadata": {},
   "source": [
    "<hr style=\"border:0.5px solid gray\"> </hr>\n",
    "\n",
    "## PART 2: Descriptive Statistics"
   ]
  },
  {
   "cell_type": "markdown",
   "metadata": {},
   "source": [
    "#### [DO NOT MODIFY] Print descriptive statistics for each feature"
   ]
  },
  {
   "cell_type": "code",
   "execution_count": null,
   "metadata": {},
   "outputs": [],
   "source": [
    "dataset.describe()"
   ]
  },
  {
   "cell_type": "markdown",
   "metadata": {},
   "source": [
    "#### [DO NOT MODIFY] Plot data in boxplots"
   ]
  },
  {
   "cell_type": "code",
   "execution_count": null,
   "metadata": {},
   "outputs": [],
   "source": [
    "ax = dataset.plot(kind='box', subplots=True, layout=(2,2), sharex=False, sharey=False)"
   ]
  },
  {
   "cell_type": "markdown",
   "metadata": {},
   "source": [
    "<hr style=\"border:0.5px solid gray\"> </hr>\n",
    "\n",
    "## PART 3: Pairwise Trends"
   ]
  },
  {
   "cell_type": "markdown",
   "metadata": {},
   "source": [
    "#### [DO NOT MODIFY] Define functions for expected value (mean), variance, and correlation"
   ]
  },
  {
   "cell_type": "code",
   "execution_count": null,
   "metadata": {},
   "outputs": [],
   "source": [
    "def expected_val(x):\n",
    "    return np.sum(x) / len(x)\n",
    "\n",
    "def variance(x):\n",
    "    return expected_val((x - expected_val(x))**2)\n",
    "\n",
    "def correlation_coefficient(x, y):\n",
    "    return expected_val((x - expected_val(x)).transpose() * (y - expected_val(y))) / np.sqrt(variance(x) * variance(y))"
   ]
  },
  {
   "cell_type": "markdown",
   "metadata": {},
   "source": [
    "#### [MODIFY] Define 'X' and 'Y' variables. Select from 'sepal_length', 'sepal_width', 'petal_length', and 'petal_width'."
   ]
  },
  {
   "cell_type": "code",
   "execution_count": null,
   "metadata": {},
   "outputs": [],
   "source": [
    "x = dataset['sepal_length']\n",
    "y = dataset['petal_width']\n",
    "\n",
    "print(f\"Calculated Values:\")\n",
    "print(f\"mean of X: {round(expected_val(x),2)}\")\n",
    "print(f\"mean of Y: {round(expected_val(y),2)}\")\n",
    "print(f\"variance of X: {round(variance(x),2)}\")\n",
    "print(f\"variance of Y: {round(variance(y),2)}\")\n",
    "print(f\"correlation coefficient between X and Y: {round(correlation_coefficient(x, y),2)}\")\n",
    "print(f\"\")\n",
    "print(f\"Automated Values:\")\n",
    "print(f\"mean of X: {round(np.mean(x),2)}\")\n",
    "print(f\"mean of Y: {round(np.mean(y),2)}\")\n",
    "print(f\"variance of X: {round(np.var(x),2)}\")\n",
    "print(f\"variance of Y: {round(np.var(y),2)}\")\n",
    "print(f\"correlation coefficient between X and Y: {round(np.corrcoef(x, y)[0, 1],2)}\")"
   ]
  },
  {
   "cell_type": "markdown",
   "metadata": {},
   "source": [
    "#### [DO NOT MODIFY] Evaluate scatter plots. "
   ]
  },
  {
   "cell_type": "code",
   "execution_count": null,
   "metadata": {},
   "outputs": [],
   "source": [
    "line_handle = plt.scatter(x, y, s=100, alpha=0.3, cmap='viridis')\n",
    "ax = plt.gca()\n",
    "ax.set_xlim([0, 8])\n",
    "ax.set_ylim([0, 8])\n",
    "ax.grid(True)\n",
    "ax.set_aspect('equal', adjustable='box')"
   ]
  },
  {
   "cell_type": "markdown",
   "metadata": {},
   "source": [
    "#### [DO NOT MODIFY] Evaluate the correlation matrix"
   ]
  },
  {
   "cell_type": "code",
   "execution_count": null,
   "metadata": {},
   "outputs": [],
   "source": [
    "round(dataset.corr(),2)"
   ]
  },
  {
   "cell_type": "code",
   "execution_count": null,
   "metadata": {},
   "outputs": [],
   "source": []
  }
 ],
 "metadata": {
  "kernelspec": {
   "display_name": "Python 3",
   "language": "python",
   "name": "python3"
  },
  "language_info": {
   "codemirror_mode": {
    "name": "ipython",
    "version": 3
   },
   "file_extension": ".py",
   "mimetype": "text/x-python",
   "name": "python",
   "nbconvert_exporter": "python",
   "pygments_lexer": "ipython3",
   "version": "3.7.4"
  }
 },
 "nbformat": 4,
 "nbformat_minor": 2
}
