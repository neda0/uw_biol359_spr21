{
 "cells": [
  {
   "cell_type": "markdown",
   "metadata": {},
   "source": [
    "# Biol 359  |  Cross-Validation\n",
    "### Spring 2021, Week 9\n",
    "\n",
    "<hr style=\"border:2px solid gray\"> </hr>\n"
   ]
  },
  {
   "cell_type": "code",
   "execution_count": null,
   "metadata": {},
   "outputs": [],
   "source": [
    "import pandas as pd\n",
    "import numpy as np\n",
    "import matplotlib.pyplot as plt\n",
    "from sklearn import datasets\n",
    "from sklearn import linear_model\n",
    "from sklearn.model_selection import train_test_split\n",
    "from sklearn.linear_model import LinearRegression\n",
    "\n",
    "import warnings\n",
    "warnings.filterwarnings(\"ignore\")\n"
   ]
  },
  {
   "cell_type": "code",
   "execution_count": null,
   "metadata": {},
   "outputs": [],
   "source": [
    "# Load diabetes dataset\n",
    "diabetes_dataset = datasets.load_diabetes()\n",
    "print(diabetes_dataset.DESCR)"
   ]
  },
  {
   "cell_type": "code",
   "execution_count": null,
   "metadata": {},
   "outputs": [],
   "source": [
    "# Generate scatter plot of independent vs dependent variable\n",
    "plt.style.use('ggplot')\n",
    "fig = plt.figure(figsize = (20, 20))\n",
    " \n",
    "for index, feature_name in enumerate(diabetes_dataset.feature_names):\n",
    "    ax = fig.add_subplot(4, 4, index + 1)\n",
    "    ax.scatter(diabetes_dataset.data[:, index], diabetes_dataset.target)\n",
    "    ax.set_ylabel('progression after 1yr', size = 16)\n",
    "    ax.set_xlabel(feature_name, size = 16)\n",
    " \n",
    "plt.show()"
   ]
  },
  {
   "cell_type": "code",
   "execution_count": null,
   "metadata": {},
   "outputs": [],
   "source": [
    "# Load the dataset into Pandas Dataframe\n",
    "diabetes_pd = pd.DataFrame(diabetes_dataset.data)\n",
    "diabetes_pd.columns = diabetes_dataset.feature_names\n",
    "diabetes_pd_target = np.asarray(diabetes_dataset.target)\n",
    "diabetes_pd['progression'] = pd.Series(diabetes_pd_target)\n",
    " \n",
    "# input\n",
    "# X = diabetes_pd.iloc[:, :-1]\n",
    "X = diabetes_pd.loc[:, ['age', 'bmi', 'bp', 's1', 's2', 's3', 's4', 's5', 's6']]\n",
    "# output\n",
    "Y = diabetes_pd.iloc[:, -1]\n",
    " \n",
    "# print(diabetes_pd.head())\n",
    "\n",
    "print(\"Input data:\")\n",
    "print(X)\n",
    "\n",
    "print(\"\")\n",
    "print(\"Output data:\")\n",
    "print(Y)"
   ]
  },
  {
   "cell_type": "code",
   "execution_count": null,
   "metadata": {},
   "outputs": [],
   "source": [
    "# Split data into training and validation set\n",
    "x_train, x_validation, y_train, y_validation = train_test_split(X, Y, test_size = 0.20)\n",
    " \n",
    "print(\"Train data shape of X = % s and Y = % s : \"%(x_train.shape, y_train.shape)) \n",
    "print(\"Validation data shape of X = % s and Y = % s : \"%(x_validation.shape, y_validation.shape))"
   ]
  },
  {
   "cell_type": "code",
   "execution_count": null,
   "metadata": {},
   "outputs": [],
   "source": [
    "# Train multiple linear regression model\n",
    "lreg = LinearRegression()\n",
    "lreg.fit(x_train, y_train)\n",
    "\n",
    "# Predict validation data\n",
    "lreg_y_pred = lreg.predict(x_validation)\n",
    "\n",
    "print(\"Linear regression coefficient of determination of prediction for training data\")\n",
    "print(f\"{lreg.score(x_train, y_train):.3f}\")\n",
    "\n",
    "print(\"Linear regression coefficient of determination of prediction for validation data\")\n",
    "print(f\"{lreg.score(x_validation, y_validation):.3f}\")\n",
    " \n",
    "mean_squared_error = np.mean((lreg_y_pred - y_validation)**2)\n",
    "print(\"Mean squared Error on test set : \", mean_squared_error)\n",
    " "
   ]
  },
  {
   "cell_type": "code",
   "execution_count": null,
   "metadata": {},
   "outputs": [],
   "source": [
    "y_train\n",
    "plt.plot(lreg_y_pred, y_validation, '.', label='validation')\n",
    "plt.plot(lreg.predict(x_train), y_train, '.', label='train')\n",
    "plt.xlim([0, 400])\n",
    "plt.ylim([0, 400])\n",
    "plt.legend()\n",
    "plt.show()"
   ]
  },
  {
   "cell_type": "code",
   "execution_count": null,
   "metadata": {},
   "outputs": [],
   "source": [
    "# Combine coefficient and corresponding variable names\n",
    "lreg_coefficient = pd.DataFrame()\n",
    "lreg_coefficient[\"Columns\"] = x_train.columns\n",
    "lreg_coefficient['Coefficient Estimate'] = pd.Series(lreg.coef_)\n",
    "lreg_coefficient"
   ]
  },
  {
   "cell_type": "code",
   "execution_count": null,
   "metadata": {},
   "outputs": [],
   "source": [
    "# Plot the magnitude of coefficients\n",
    "fig, ax = plt.subplots(figsize =(7, 7))\n",
    "color =['midnightblue', 'navy', 'darkblue', 'mediumblue', 'blue', \n",
    "        'darkslateblue','mediumslateblue', 'slateblue', \n",
    "        'mediumpurple', 'blueviolet', 'darkviolet']\n",
    "\n",
    "ax.bar(lreg_coefficient[\"Columns\"], lreg_coefficient['Coefficient Estimate'], color = color)\n",
    " \n",
    "ax.spines['bottom'].set_position('zero')\n",
    " \n",
    "plt.style.use('ggplot')\n",
    "plt.show()"
   ]
  },
  {
   "cell_type": "code",
   "execution_count": null,
   "metadata": {},
   "outputs": [],
   "source": []
  },
  {
   "cell_type": "code",
   "execution_count": null,
   "metadata": {},
   "outputs": [],
   "source": [
    "# Train a Ridge regression model\n",
    "from sklearn.linear_model import Ridge\n",
    " \n",
    "ridgeR = Ridge(alpha = 1)\n",
    "ridgeR.fit(x_train, y_train)\n",
    "\n",
    "# Predict validation data\n",
    "y_pred = ridgeR.predict(x_validation)\n",
    " \n",
    "### Calculate R2\n",
    "# r2 = lm_elasticnet.score(x_validation, y_validation)\n",
    "# print(f\"R^2 = {r2}\")\n",
    "\n",
    "### Calculate Q2\n",
    "# q2 = lm_elasticnet.score(x_validation, y_validation)\n",
    "# print(f\"Q^2 = {q2}\")\n",
    "\n",
    "## calculate mean square error\n",
    "## mean_squared_error_ridge = np.mean((y_pred - y_test)**2)\n",
    "## print(mean_squared_error_ridge)\n"
   ]
  },
  {
   "cell_type": "code",
   "execution_count": null,
   "metadata": {},
   "outputs": [],
   "source": [
    "# Combine coefficient and corresponding variable names\n",
    "ridge_coefficient = pd.DataFrame()\n",
    "ridge_coefficient[\"Columns\"]= x_train.columns\n",
    "ridge_coefficient['Coefficient Estimate'] = pd.Series(ridgeR.coef_)\n",
    "ridge_coefficient"
   ]
  },
  {
   "cell_type": "code",
   "execution_count": null,
   "metadata": {},
   "outputs": [],
   "source": [
    "# Plot the magnitude of coefficients\n",
    "fig, ax = plt.subplots(figsize =(7, 7))\n",
    "color =['midnightblue', 'navy', 'darkblue', 'mediumblue', 'blue', \n",
    "        'darkslateblue','mediumslateblue', 'slateblue', \n",
    "        'mediumpurple', 'blueviolet', 'darkviolet']\n",
    "\n",
    "ax.bar(ridge_coefficient[\"Columns\"], ridge_coefficient['Coefficient Estimate'], color = color)\n",
    " \n",
    "ax.spines['bottom'].set_position('zero')\n",
    " \n",
    "plt.style.use('ggplot')\n",
    "plt.show()"
   ]
  },
  {
   "cell_type": "code",
   "execution_count": null,
   "metadata": {},
   "outputs": [],
   "source": []
  },
  {
   "cell_type": "code",
   "execution_count": null,
   "metadata": {},
   "outputs": [],
   "source": [
    "# Train a LASSO regression model\n",
    "from sklearn.linear_model import Lasso\n",
    " \n",
    "lasso = Lasso(alpha = 1)\n",
    "lasso.fit(x_train, y_train)\n",
    "\n",
    "# Predict validation data\n",
    "y_pred1 = lasso.predict(x_validation)\n",
    " \n",
    "### Calculate R2\n",
    "# r2 = lm_elasticnet.score(x_validation, y_validation)\n",
    "# print(f\"R^2 = {r2}\")\n",
    "\n",
    "### Calculate Q2\n",
    "# q2 = lm_elasticnet.score(x_validation, y_validation)\n",
    "# print(f\"Q^2 = {q2}\")\n",
    "    \n",
    "## Calculate Mean Squared Error\n",
    "## mean_squared_error = np.mean((y_pred1 - y_test)**2)\n",
    "## print(\"Mean squared error on test set\", mean_squared_error)\n"
   ]
  },
  {
   "cell_type": "code",
   "execution_count": null,
   "metadata": {},
   "outputs": [],
   "source": [
    "# Combine coefficient and corresponding variable names\n",
    "lasso_coeff = pd.DataFrame()\n",
    "lasso_coeff[\"Columns\"] = x_train.columns\n",
    "lasso_coeff['Coefficient Estimate'] = pd.Series(lasso.coef_)\n",
    " \n",
    "lasso_coeff"
   ]
  },
  {
   "cell_type": "code",
   "execution_count": null,
   "metadata": {},
   "outputs": [],
   "source": [
    "# Plot the magnitude of coefficients\n",
    "fig, ax = plt.subplots(figsize =(7, 7))\n",
    "color =['midnightblue', 'navy', 'darkblue', 'mediumblue', 'blue', \n",
    "        'darkslateblue','mediumslateblue', 'slateblue', \n",
    "        'mediumpurple', 'blueviolet', 'darkviolet']\n",
    "\n",
    "ax.bar(lasso_coeff[\"Columns\"], lasso_coeff['Coefficient Estimate'], color = color)\n",
    " \n",
    "ax.spines['bottom'].set_position('zero')\n",
    " \n",
    "plt.style.use('ggplot')\n",
    "plt.show()"
   ]
  },
  {
   "cell_type": "code",
   "execution_count": null,
   "metadata": {},
   "outputs": [],
   "source": []
  },
  {
   "cell_type": "code",
   "execution_count": null,
   "metadata": {},
   "outputs": [],
   "source": [
    "# Train and Elastic Net model\n",
    "from sklearn.linear_model import ElasticNet\n",
    " \n",
    "e_net = ElasticNet(alpha = 1)\n",
    "e_net.fit(x_train, y_train)\n",
    " \n",
    "# Predict validation data\n",
    "y_pred_elastic = e_net.predict(x_validation)\n",
    "\n",
    "### Calculate R2\n",
    "# r2 = lm_elasticnet.score(x_validation, y_validation)\n",
    "# print(f\"R^2 = {r2}\")\n",
    "\n",
    "### Calculate Q2\n",
    "# q2 = lm_elasticnet.score(x_validation, y_validation)\n",
    "# print(f\"Q^2 = {q2}\")\n",
    "\n",
    "## mean_squared_error = np.mean((y_pred_elastic - y_test)**2)\n",
    "## print(\"Mean Squared Error on test set\", mean_squared_error)\n",
    " \n"
   ]
  },
  {
   "cell_type": "code",
   "execution_count": null,
   "metadata": {},
   "outputs": [],
   "source": [
    "# Combine coefficient and corresponding variable names\n",
    "e_net_coeff = pd.DataFrame()\n",
    "e_net_coeff[\"Columns\"] = x_train.columns\n",
    "e_net_coeff['Coefficient Estimate'] = pd.Series(e_net.coef_)\n",
    "e_net_coeff"
   ]
  },
  {
   "cell_type": "code",
   "execution_count": null,
   "metadata": {},
   "outputs": [],
   "source": [
    "# Plot the magnitude of coefficients\n",
    "fig, ax = plt.subplots(figsize =(7, 7))\n",
    "color =['midnightblue', 'navy', 'darkblue', 'mediumblue', 'blue', \n",
    "        'darkslateblue','mediumslateblue', 'slateblue', \n",
    "        'mediumpurple', 'blueviolet', 'darkviolet']\n",
    "\n",
    "ax.bar(e_net_coeff[\"Columns\"], e_net_coeff['Coefficient Estimate'], color = color)\n",
    " \n",
    "ax.spines['bottom'].set_position('zero')\n",
    " \n",
    "plt.style.use('ggplot')\n",
    "plt.show()"
   ]
  },
  {
   "cell_type": "code",
   "execution_count": null,
   "metadata": {},
   "outputs": [],
   "source": []
  },
  {
   "cell_type": "code",
   "execution_count": null,
   "metadata": {},
   "outputs": [],
   "source": []
  },
  {
   "cell_type": "code",
   "execution_count": null,
   "metadata": {},
   "outputs": [],
   "source": []
  },
  {
   "cell_type": "code",
   "execution_count": null,
   "metadata": {},
   "outputs": [],
   "source": []
  }
 ],
 "metadata": {
  "kernelspec": {
   "display_name": "Python 3",
   "language": "python",
   "name": "python3"
  },
  "language_info": {
   "codemirror_mode": {
    "name": "ipython",
    "version": 3
   },
   "file_extension": ".py",
   "mimetype": "text/x-python",
   "name": "python",
   "nbconvert_exporter": "python",
   "pygments_lexer": "ipython3",
   "version": "3.8.2"
  }
 },
 "nbformat": 4,
 "nbformat_minor": 4
}
