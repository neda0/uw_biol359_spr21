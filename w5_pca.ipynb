{
 "cells": [
  {
   "cell_type": "markdown",
   "metadata": {
    "hideCode": false,
    "hidePrompt": true
   },
   "source": [
    "# Biol 359  |  Principal Component Analysis\n",
    "### Spring 2021, Week 5\n",
    "\n",
    "<hr style=\"border:2px solid gray\"> </hr>"
   ]
  },
  {
   "cell_type": "code",
   "execution_count": null,
   "metadata": {
    "hideCode": false,
    "hidePrompt": true
   },
   "outputs": [],
   "source": [
    "import pandas as pd\n",
    "import numpy as np\n",
    "import matplotlib.pyplot as plt\n",
    "import seaborn as sns"
   ]
  },
  {
   "cell_type": "markdown",
   "metadata": {
    "hideCode": false,
    "hidePrompt": true
   },
   "source": [
    "#### Import breast cancer data "
   ]
  },
  {
   "cell_type": "code",
   "execution_count": null,
   "metadata": {
    "hideCode": false,
    "hidePrompt": true
   },
   "outputs": [],
   "source": [
    "from sklearn.datasets import load_breast_cancer\n",
    "# NOTE:\n",
    "# `breast_raw.data`: Stores the raw data (breast feature data)\n",
    "# `breast_raw.feature_names`: Stores the raw data feature labels\n",
    "# `breast_raw.target`: Stores the tumor type (0 = 'benign', 1 = 'malignant')\n",
    "# `breast_raw.target_names`: Stores the tumor type labels ('benign' or 'malignant')\n",
    "# `breast_raw.DESCR`: Description of the data\n",
    "breast_raw = load_breast_cancer()\n",
    "\n",
    "# Uncomment the following line to print a description of the data\n",
    "print(breast_raw.DESCR)"
   ]
  },
  {
   "cell_type": "markdown",
   "metadata": {},
   "source": [
    "#### Convert data into Pandas data frame. Review the features and sample labels.\n",
    "Optional reference: https://pandas.pydata.org/docs/index.html"
   ]
  },
  {
   "cell_type": "code",
   "execution_count": null,
   "metadata": {
    "hidePrompt": true
   },
   "outputs": [],
   "source": [
    "# Feature data set\n",
    "features = pd.DataFrame(breast_raw.data, columns=breast_raw.feature_names)\n",
    "features.head()"
   ]
  },
  {
   "cell_type": "code",
   "execution_count": null,
   "metadata": {
    "hidePrompt": true
   },
   "outputs": [],
   "source": [
    "# Tumor label data set\n",
    "tumor = pd.DataFrame(breast_raw.target, columns=['tumor'])\n",
    "# tumor_set.replace({'tumor type': {0: 'benign', 1: 'malignant'}}, inplace=True)\n",
    "tumor.head()"
   ]
  },
  {
   "cell_type": "code",
   "execution_count": null,
   "metadata": {
    "hidePrompt": true
   },
   "outputs": [],
   "source": [
    "# Concantenate into one data frame\n",
    "breast = pd.concat([features, tumor], axis=1)\n",
    "# breast.loc[:, breast.columns != 'tumor'].head()\n",
    "# breast.loc[:, breast.columns == 'tumor'].head()"
   ]
  },
  {
   "cell_type": "markdown",
   "metadata": {
    "hideCode": false,
    "hidePrompt": true
   },
   "source": [
    "#### Assess feature data statistics"
   ]
  },
  {
   "cell_type": "code",
   "execution_count": null,
   "metadata": {
    "hideCode": false,
    "hidePrompt": true
   },
   "outputs": [],
   "source": [
    "features.describe()"
   ]
  },
  {
   "cell_type": "markdown",
   "metadata": {
    "hideCode": false,
    "hidePrompt": true
   },
   "source": [
    "#### Plot the data"
   ]
  },
  {
   "cell_type": "code",
   "execution_count": null,
   "metadata": {},
   "outputs": [],
   "source": [
    "# Plot each column -- maybe not the most useful\n",
    "breast.plot(figsize=(20, 20), subplots=True);"
   ]
  },
  {
   "cell_type": "code",
   "execution_count": null,
   "metadata": {},
   "outputs": [],
   "source": [
    "# Create scatter plots of the various features\n",
    "fig, axs = plt.subplots(2, 2, figsize=(10, 10))\n",
    "features.plot.scatter(ax=axs[0, 0], x=\"mean radius\", y=\"mean area\", alpha=0.5, color='red');\n",
    "features.plot.scatter(ax=axs[0, 1], x=\"mean radius\", y=\"mean texture\", alpha=0.5, color='green');\n",
    "features.plot.scatter(ax=axs[1, 0], x=\"mean concave points\", y=\"mean concavity\", alpha=0.5, color='blue');\n",
    "features.plot.scatter(ax=axs[1, 1], x=\"mean concave points\", y=\"mean fractal dimension\", alpha=0.5, color='orange');"
   ]
  },
  {
   "cell_type": "markdown",
   "metadata": {
    "hideCode": false,
    "hidePrompt": true
   },
   "source": [
    "#### Standarized feature data (mean centered, unit standard deviation)"
   ]
  },
  {
   "cell_type": "code",
   "execution_count": null,
   "metadata": {
    "hideCode": false,
    "hidePrompt": true
   },
   "outputs": [],
   "source": [
    "# features_centered = features.subtract(features.mean())\n",
    "features_standarized = (features - features.mean()) / features.std()"
   ]
  },
  {
   "cell_type": "code",
   "execution_count": null,
   "metadata": {
    "hidePrompt": true
   },
   "outputs": [],
   "source": [
    "# Re-plot scatter plots of the same various features after centering the data with the mean marked with an \"x\"\n",
    "fig, axs = plt.subplots(2, 2, figsize=(15, 15))\n",
    "features_standarized.plot.scatter(ax=axs[0, 0], x=\"mean radius\", y=\"mean perimeter\", alpha=0.5, color='red');\n",
    "axs[0, 0].plot(0, 0, \"x\", color=\"black\");\n",
    "features_standarized.plot.scatter(ax=axs[0, 1], x=\"mean radius\", y=\"mean texture\", alpha=0.5, color='green');\n",
    "axs[0, 1].plot(0, 0, \"x\", color=\"black\");\n",
    "features_standarized.plot.scatter(ax=axs[1, 0], x=\"mean concave points\", y=\"mean concavity\", alpha=0.5, color='blue');\n",
    "axs[1, 0].plot(0, 0, \"x\", color=\"black\");\n",
    "features_standarized.plot.scatter(ax=axs[1, 1], x=\"mean concave points\", y=\"mean fractal dimension\", alpha=0.5, color='orange');\n",
    "axs[1, 1].plot(0, 0, \"x\", color=\"black\");"
   ]
  },
  {
   "cell_type": "markdown",
   "metadata": {
    "hideCode": false,
    "hidePrompt": true
   },
   "source": [
    "#### Solve for the covariance matrix of the standarized feature data"
   ]
  },
  {
   "cell_type": "code",
   "execution_count": null,
   "metadata": {
    "hideCode": false,
    "hidePrompt": true
   },
   "outputs": [],
   "source": [
    "features_standarized.cov()"
   ]
  },
  {
   "cell_type": "markdown",
   "metadata": {
    "hideCode": false,
    "hidePrompt": true
   },
   "source": [
    "#### Solve for the eigen decomposition of the covariance matrix"
   ]
  },
  {
   "cell_type": "code",
   "execution_count": null,
   "metadata": {
    "hideCode": false,
    "hidePrompt": true
   },
   "outputs": [],
   "source": [
    "eig_vals, eig_vecs = np.linalg.eig(features_standarized.cov().values)\n",
    "inds = range(0, len(eig_vals))\n",
    "print(eig_vals)"
   ]
  },
  {
   "cell_type": "code",
   "execution_count": null,
   "metadata": {
    "hidePrompt": true
   },
   "outputs": [],
   "source": [
    "eig_vecs.shape"
   ]
  },
  {
   "cell_type": "code",
   "execution_count": null,
   "metadata": {
    "hidePrompt": true
   },
   "outputs": [],
   "source": [
    "dot_product = np.inner(eig_vecs[:,3], eig_vecs[:,2])\n",
    "print(dot_product)"
   ]
  },
  {
   "cell_type": "markdown",
   "metadata": {
    "hideCode": false,
    "hidePrompt": true
   },
   "source": [
    "#### Create the Scree Plot)"
   ]
  },
  {
   "cell_type": "code",
   "execution_count": null,
   "metadata": {
    "hidePrompt": true
   },
   "outputs": [],
   "source": [
    "eig_vals_normalized = 100 * eig_vals / np.sum(eig_vals)\n",
    "plt.bar(inds, eig_vals_normalized);\n",
    "plt.xlabel(\"Eigenvalue Indices\");\n",
    "plt.ylabel(\"Percent Variance Explained\");"
   ]
  },
  {
   "cell_type": "markdown",
   "metadata": {
    "hidePrompt": true
   },
   "source": [
    "#### Calculate the information stored in the first two principal components of the data"
   ]
  },
  {
   "cell_type": "code",
   "execution_count": null,
   "metadata": {
    "hideCode": false,
    "hidePrompt": true
   },
   "outputs": [],
   "source": [
    "pc_first_two_info = np.sum(eig_vals_normalized[0:2])\n",
    "print(f\"Percentage of variance explained: {pc_first_two_info:0.2f}%\")"
   ]
  },
  {
   "cell_type": "markdown",
   "metadata": {
    "hideCode": false,
    "hidePrompt": true
   },
   "source": [
    "#### Identify the feature that contributes most to the first two principal components "
   ]
  },
  {
   "cell_type": "code",
   "execution_count": null,
   "metadata": {
    "hideCode": false,
    "hidePrompt": true
   },
   "outputs": [],
   "source": [
    "def pc_stem_plot(ax, pc, columns):\n",
    "    inds = range(0, len(pc)) \n",
    "    max_ind = np.argmax(np.abs(pc))\n",
    "    print(f\"Feature that contributes most to this principal component: {columns[max_ind]} (index {max_ind})\")\n",
    "        \n",
    "    ax.stem(inds, pc, 'b', markerfmt='bo');\n",
    "    ax.stem([max_ind], [pc[max_ind]], 'r', markerfmt='ro');\n",
    "\n",
    "    ax.set_xlabel(\"Feature index\");\n",
    "    ax.set_ylabel(\"Feature contribution to principal component\") ;\n",
    "\n",
    "fig, axs = plt.subplots(1, 2, figsize=(10, 5))\n",
    "pc1 = eig_vecs[:, 0]\n",
    "pc_stem_plot(axs[0], pc1, features.columns)\n",
    "pc2 = eig_vecs[:, 1]\n",
    "pc_stem_plot(axs[1], pc2, features.columns)"
   ]
  },
  {
   "cell_type": "markdown",
   "metadata": {
    "hideCode": false,
    "hidePrompt": true
   },
   "source": [
    "#### Transform data and reduct it to a 2D space"
   ]
  },
  {
   "cell_type": "code",
   "execution_count": null,
   "metadata": {
    "hidePrompt": true
   },
   "outputs": [],
   "source": [
    "features_pc1 = features_standarized.values @ pc1\n",
    "features_pc2 = features_standarized.values @ pc2\n",
    "features_transformed = pd.DataFrame({\"pc1\": features_pc1, \"pc2\": features_pc2})\n",
    "features_transformed.head()"
   ]
  },
  {
   "cell_type": "code",
   "execution_count": null,
   "metadata": {
    "hidePrompt": true
   },
   "outputs": [],
   "source": [
    "features_transformed.describe()"
   ]
  },
  {
   "cell_type": "markdown",
   "metadata": {
    "hideCode": false,
    "hidePrompt": true
   },
   "source": [
    "#### Visualize reduced data in 2D"
   ]
  },
  {
   "cell_type": "code",
   "execution_count": null,
   "metadata": {
    "hideCode": false,
    "hidePrompt": true
   },
   "outputs": [],
   "source": [
    "features_transformed.plot.scatter(x=\"pc1\", y=\"pc2\");"
   ]
  },
  {
   "cell_type": "code",
   "execution_count": null,
   "metadata": {
    "hideCode": false,
    "hidePrompt": true
   },
   "outputs": [],
   "source": [
    "select_benign =(tumor == 0).values[:, 0]\n",
    "select_malignant =(tumor == 1).values[:, 0]\n",
    "benign = features_transformed.loc[select_benign, :]\n",
    "malignant = features_transformed.loc[select_malignant, :]\n",
    "ax = benign.plot.scatter(x=\"pc1\", y=\"pc2\", s=20, color=\"green\", alpha=.4, label=\"benign\");\n",
    "malignant.plot.scatter(ax=ax, x=\"pc1\", y=\"pc2\", s=20, color=\"blue\", alpha=.1, label=\"malignant\");\n",
    "plt.legend();"
   ]
  },
  {
   "cell_type": "markdown",
   "metadata": {
    "hidePrompt": true
   },
   "source": [
    "#### Revisit the feature scatter plots (now labeled)"
   ]
  },
  {
   "cell_type": "code",
   "execution_count": null,
   "metadata": {
    "hidePrompt": true
   },
   "outputs": [],
   "source": [
    "benign = features_standarized.loc[select_benign, :]\n",
    "malignant = features_standarized.loc[select_malignant, :]\n",
    "ax = benign.plot.scatter(x=\"mean concave points\", y=\"mean texture\", s=20, color=\"green\", alpha=.4, label=\"benign\");\n",
    "malignant.plot.scatter(ax=ax, x=\"mean concave points\", y=\"mean texture\", s=20, color=\"blue\", alpha=.1, label=\"malignant\");\n",
    "plt.legend();"
   ]
  }
 ],
 "metadata": {
  "celltoolbar": "Hide code",
  "hide_code_all_hidden": true,
  "kernelspec": {
   "display_name": "Python 3",
   "language": "python",
   "name": "python3"
  },
  "language_info": {
   "codemirror_mode": {
    "name": "ipython",
    "version": 3
   },
   "file_extension": ".py",
   "mimetype": "text/x-python",
   "name": "python",
   "nbconvert_exporter": "python",
   "pygments_lexer": "ipython3",
   "version": "3.7.4"
  }
 },
 "nbformat": 4,
 "nbformat_minor": 2
}
