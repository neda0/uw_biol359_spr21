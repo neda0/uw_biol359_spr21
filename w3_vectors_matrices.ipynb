{
 "cells": [
  {
   "cell_type": "markdown",
   "metadata": {
    "hideCode": false,
    "hideOutput": true,
    "hidePrompt": false
   },
   "source": [
    "# Biol 359  |  Vectors, Matrices, and Linear Transformations\n",
    "### Spring 2021, Week 3\n",
    "\n",
    "<hr style=\"border:2px solid gray\"> </hr>"
   ]
  },
  {
   "cell_type": "markdown",
   "metadata": {
    "hideCode": false,
    "hidePrompt": false
   },
   "source": [
    "### [DO NOT MODIFY]  "
   ]
  },
  {
   "cell_type": "code",
   "execution_count": 1,
   "metadata": {
    "hideCode": false,
    "hidePrompt": false
   },
   "outputs": [],
   "source": [
    "import pandas as pd\n",
    "import numpy as np\n",
    "import matplotlib.pyplot as plt"
   ]
  },
  {
   "cell_type": "markdown",
   "metadata": {
    "hideCode": false,
    "hidePrompt": false
   },
   "source": [
    "### Define matrix A "
   ]
  },
  {
   "cell_type": "code",
   "execution_count": 2,
   "metadata": {
    "hideCode": false,
    "hidePrompt": false
   },
   "outputs": [],
   "source": [
    "A = np.array([[1, 1], [1, 1]])\n",
    "# A = np.array([[np.cos(np.pi/6), -np.sin(np.pi/6)], [np.sin(np.pi/6), np.cos(np.pi/6)]])\n",
    "# print(A)"
   ]
  },
  {
   "cell_type": "markdown",
   "metadata": {
    "hideCode": false,
    "hidePrompt": false
   },
   "source": [
    "### [DO NOT MODIFY]  Plot the unit-length vectors 'i' and 'j' and superimpose the unit circle."
   ]
  },
  {
   "cell_type": "code",
   "execution_count": 3,
   "metadata": {
    "hideCode": false,
    "hidePrompt": false
   },
   "outputs": [
    {
     "data": {
      "image/png": "[encoded data removed]",
      "text/plain": [
       "<Figure size 432x288 with 1 Axes>"
      ]
     },
     "metadata": {
      "needs_background": "light"
     },
     "output_type": "display_data"
    }
   ],
   "source": [
    "I = np.eye(2)\n",
    "cir = np.arange(0, 2*np.pi, 2*np.pi / 100)\n",
    "cart = np.array([(np.cos(ang), np.sin(ang)) for ang in cir]).transpose()\n",
    "np.shape(cart)\n",
    "origin = np.array([[0, 0],[0, 0]])\n",
    "fig, axs = plt.subplots(1, 1)\n",
    "axs.quiver(*origin, I[0, :], I[1, :], color=['r','b'], angles='xy', scale_units='xy', scale=1)\n",
    "axs.plot(cart[0, :], cart[1, :], color='k')\n",
    "axs.set_xlim(-5, 5)\n",
    "axs.set_ylim(-5, 5)\n",
    "axs.set_aspect('equal', 'box')\n",
    "plt.grid(True)"
   ]
  },
  {
   "cell_type": "markdown",
   "metadata": {
    "hideCode": false,
    "hideOutput": true,
    "hidePrompt": false
   },
   "source": [
    "### [DO NOT MODIFY]  Transform unit vectors by A. Plot the resulting vectors and the transformed unit circle."
   ]
  },
  {
   "cell_type": "code",
   "execution_count": 4,
   "metadata": {
    "hideCode": false,
    "hidePrompt": false
   },
   "outputs": [
    {
     "data": {
      "image/png": "[encoded data removed]",
      "text/plain": [
       "<Figure size 432x288 with 1 Axes>"
      ]
     },
     "metadata": {
      "needs_background": "light"
     },
     "output_type": "display_data"
    }
   ],
   "source": [
    "origin = np.array([[0, 0],[0, 0]])\n",
    "fig, axs = plt.subplots(1, 1)\n",
    "axs.quiver(*origin, (A @ I)[0, :], (A @ I)[1, :], color=['r','b'], angles='xy', scale_units='xy', scale=1)\n",
    "axs.plot((A @ cart)[0, :], (A @ cart)[1, :], color=[.5, .5, .5])\n",
    "axs.set_xlim(-5, 5)\n",
    "axs.set_ylim(-5, 5)\n",
    "axs.set_aspect('equal', 'box')\n",
    "plt.grid(True)"
   ]
  },
  {
   "cell_type": "markdown",
   "metadata": {
    "hideCode": false,
    "hidePrompt": false
   },
   "source": [
    "### [DO NOT MODIFY]  Calculate the determinant of matrix A."
   ]
  },
  {
   "cell_type": "code",
   "execution_count": 5,
   "metadata": {
    "hideCode": false,
    "hidePrompt": false
   },
   "outputs": [
    {
     "name": "stdout",
     "output_type": "stream",
     "text": [
      "0.0\n"
     ]
    }
   ],
   "source": [
    "print(np.round(np.linalg.det(A),2))"
   ]
  },
  {
   "cell_type": "markdown",
   "metadata": {
    "hideCode": false,
    "hidePrompt": false
   },
   "source": [
    "<hr style=\"border:2px solid gray\"> </hr>\n",
    "\n",
    "### [DO NOT MODIFY]  Calculate the eigenvalues and eigenvectors of matrix A."
   ]
  },
  {
   "cell_type": "code",
   "execution_count": 6,
   "metadata": {
    "hideCode": false,
    "hidePrompt": false
   },
   "outputs": [
    {
     "name": "stdout",
     "output_type": "stream",
     "text": [
      "Eigenvalues of A: \n",
      " [2. 0.] \n",
      "\n",
      "Eigenvectors of A: \n",
      " [[ 0.71 -0.71]\n",
      " [ 0.71  0.71]]\n"
     ]
    }
   ],
   "source": [
    "eigenvalue, eigenvector = np.linalg.eig(A)\n",
    "print(f\"Eigenvalues of A: \\n {np.round(eigenvalue,2)} \\n\")\n",
    "print(f\"Eigenvectors of A: \\n {np.round(eigenvector,2)}\")"
   ]
  },
  {
   "cell_type": "markdown",
   "metadata": {
    "hideCode": false,
    "hidePrompt": false
   },
   "source": [
    "### [DO NOT MODIFY]  Plot the unit-length eigenvectors and superimpose the unit circle"
   ]
  },
  {
   "cell_type": "code",
   "execution_count": 7,
   "metadata": {
    "hideCode": false,
    "hidePrompt": false
   },
   "outputs": [
    {
     "data": {
      "image/png": "[encoded data removed]",
      "text/plain": [
       "<Figure size 432x288 with 1 Axes>"
      ]
     },
     "metadata": {
      "needs_background": "light"
     },
     "output_type": "display_data"
    }
   ],
   "source": [
    "origin = np.array([[0, 0],[0, 0]])\n",
    "fig, axs = plt.subplots(1, 1)\n",
    "axs.quiver(*origin, (eigenvector)[0, :], (eigenvector)[1, :], color=['r','b'], angles='xy', scale_units='xy', scale=1)\n",
    "axs.plot((cart)[0, :], (cart)[1, :], color='k')\n",
    "axs.set_xlim(-5, 5)\n",
    "axs.set_ylim(-5, 5)\n",
    "axs.set_aspect('equal', 'box')\n",
    "plt.grid(True)"
   ]
  },
  {
   "cell_type": "markdown",
   "metadata": {
    "hideCode": false,
    "hidePrompt": false
   },
   "source": [
    "### [DO NOT MODIFY]  Transform the eigenvectors by matrix A and plot them with the transformed unit circle."
   ]
  },
  {
   "cell_type": "code",
   "execution_count": 9,
   "metadata": {
    "hideCode": false,
    "hidePrompt": false
   },
   "outputs": [
    {
     "data": {
      "image/png": "[encoded data removed]",
      "text/plain": [
       "<Figure size 432x288 with 1 Axes>"
      ]
     },
     "metadata": {
      "needs_background": "light"
     },
     "output_type": "display_data"
    }
   ],
   "source": [
    "origin = np.array([[0, 0],[0, 0]])\n",
    "fig, axs = plt.subplots(1, 1)\n",
    "#axs.quiver(*origin, (eigenvector)[0,:], (eigenvector)[1,:], color=['r','b'], angles='xy', scale_units='xy', scale=1)\n",
    "#axs.plot((cart)[0, :], (cart)[1, :], color='k')\n",
    "axs.quiver(*origin, (A @ eigenvector)[0,:], (A @ eigenvector)[1,:], color=['r','b'], angles='xy', scale_units='xy', scale=1)\n",
    "axs.plot((A @ cart)[0,:], (A @ cart)[1,:], color=[.5, .5, .5])\n",
    "axs.set_xlim(-5, 5)\n",
    "axs.set_ylim(-5, 5)\n",
    "axs.set_aspect('equal', 'box')\n",
    "plt.grid(True)"
   ]
  },
  {
   "cell_type": "code",
   "execution_count": null,
   "metadata": {},
   "outputs": [],
   "source": []
  }
 ],
 "metadata": {
  "hide_code_all_hidden": false,
  "kernelspec": {
   "display_name": "Python 3",
   "language": "python",
   "name": "python3"
  },
  "language_info": {
   "codemirror_mode": {
    "name": "ipython",
    "version": 3
   },
   "file_extension": ".py",
   "mimetype": "text/x-python",
   "name": "python",
   "nbconvert_exporter": "python",
   "pygments_lexer": "ipython3",
   "version": "3.7.4"
  }
 },
 "nbformat": 4,
 "nbformat_minor": 2
}
