{
 "cells": [
  {
   "cell_type": "markdown",
   "metadata": {},
   "source": [
    "# Biol 359  |  The Significance of P-Values\n",
    "### Spring 2021, Week 2 \n",
    "\n",
    "<hr style=\"border:2px solid gray\"> </hr>"
   ]
  },
  {
   "cell_type": "markdown",
   "metadata": {},
   "source": [
    "#### [DO NOT MODIFY]  "
   ]
  },
  {
   "cell_type": "code",
   "execution_count": null,
   "metadata": {},
   "outputs": [],
   "source": [
    "import pandas as pd\n",
    "import numpy as np\n",
    "import matplotlib.pyplot as plt\n",
    "import scipy.stats"
   ]
  },
  {
   "cell_type": "markdown",
   "metadata": {},
   "source": [
    "## PART 1: Exerimental Design "
   ]
  },
  {
   "cell_type": "markdown",
   "metadata": {},
   "source": [
    "### Your team has developed two distinct drugs that aim to prolong lifespan. Recruit individuals to your clinical trial. Set the initial number of patients per group (ppg): placebo, drug1, drug2. "
   ]
  },
  {
   "cell_type": "code",
   "execution_count": null,
   "metadata": {},
   "outputs": [],
   "source": [
    "ppg = 20"
   ]
  },
  {
   "cell_type": "markdown",
   "metadata": {},
   "source": [
    "### [DO NOT MODIFY]    Run your trial, assess data, and plot the histogram of your observations."
   ]
  },
  {
   "cell_type": "code",
   "execution_count": null,
   "metadata": {},
   "outputs": [],
   "source": [
    "mu0, sigma0 = 80, 10\n",
    "mu1, sigma1 = 82, 10\n",
    "mu2, sigma2 = 84, 10\n",
    "\n",
    "g0 =  np.random.normal(mu0, sigma0, ppg) # placebo group\n",
    "g1 =  np.random.normal(mu1, sigma1, ppg) # drug 1 group\n",
    "g2 =  np.random.normal(mu2, sigma2, ppg) # drug 2 group\n",
    "\n",
    "plt.hist([g0, g1, g2], bins=40, label=[\"placebo\", \"drug 1\", \"drug 2\"]);\n",
    "ax = plt.gca();\n",
    "ax.grid(True);\n",
    "ax.set_xlabel(\"Observed Lifespan\");\n",
    "ax.set_ylabel(\"Counts\");\n",
    "ax.legend();\n",
    "\n",
    "def expected_val(x):\n",
    "    return np.sum(x) / len(x)\n",
    "\n",
    "def variance(x):\n",
    "    return expected_val((x - expected_val(x))**2)\n",
    "\n",
    "print(f\"Sample mean of placebo group: {round(expected_val(g0),1)}\")\n",
    "print(f\"Sample mean of drug 1 group: {round(expected_val(g1),1)}\")\n",
    "print(f\"Sample mean of drug 2 group: {round(expected_val(g2),1)}\")"
   ]
  },
  {
   "cell_type": "markdown",
   "metadata": {},
   "source": [
    "<hr style=\"border:0.5px solid gray\"> </hr>\n",
    "\n",
    "## Part 2: Data Analysis"
   ]
  },
  {
   "cell_type": "markdown",
   "metadata": {},
   "source": [
    "### [DO NOT MODIFY]  Calculate the T-test for the means of two independent samples/groups of patients. \n",
    "#### This statistic is a one- and two-sided test for the null hypothesis that 2 independent samples have identical average (expected) values. This test assumes that the populations have identical variances by default."
   ]
  },
  {
   "cell_type": "code",
   "execution_count": null,
   "metadata": {},
   "outputs": [],
   "source": [
    "from scipy.stats import ttest_ind as ttest\n",
    "tstat_1sided_01, pvalue_1sided_01 = ttest(g1,g0,alternative=\"greater\")\n",
    "tstat_1sided_02, pvalue_1sided_02 = ttest(g2,g0,alternative=\"greater\")\n",
    "tstat_2sided_12, pvalue_2sided_12 = ttest(g2,g1)\n",
    "\n",
    "print(f\"1-sided P-value: placebo v group 1: {pvalue_1sided_01:.5f} \\n\")\n",
    "print(f\"1-sided P-value: placebo v group 2: {pvalue_1sided_02:.5f} \\n\")\n",
    "print(f\"2-sided P-value: group 1 v group 2: {pvalue_2sided_12:.5f} \\n\")\n"
   ]
  }
 ],
 "metadata": {
  "kernelspec": {
   "display_name": "Python 3",
   "language": "python",
   "name": "python3"
  },
  "language_info": {
   "codemirror_mode": {
    "name": "ipython",
    "version": 3
   },
   "file_extension": ".py",
   "mimetype": "text/x-python",
   "name": "python",
   "nbconvert_exporter": "python",
   "pygments_lexer": "ipython3",
   "version": "3.7.4"
  }
 },
 "nbformat": 4,
 "nbformat_minor": 2
}
